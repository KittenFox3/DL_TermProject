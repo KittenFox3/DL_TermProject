{
 "cells": [
  {
   "cell_type": "markdown",
   "id": "1b3f2fa0",
   "metadata": {},
   "source": [
    "# 데이터 전처리 코드"
   ]
  },
  {
   "cell_type": "code",
   "execution_count": 1,
   "id": "b2437d07",
   "metadata": {},
   "outputs": [
    {
     "name": "stdout",
     "output_type": "stream",
     "text": [
      "/home/user/dacon_detection/train\n"
     ]
    }
   ],
   "source": [
    "%cd train"
   ]
  },
  {
   "cell_type": "code",
   "execution_count": 2,
   "id": "79773b67",
   "metadata": {},
   "outputs": [],
   "source": [
    "import os\n",
    "file_list = os.listdir()\n",
    "images, labels = [], []\n",
    "tmp = [file_list[i].split(\".\")[0] for i in range(len(file_list))]\n",
    "for i in file_list:\n",
    "    if i.split(\".\")[1] == \"txt\":\n",
    "        labels.append(i)\n",
    "    else:\n",
    "        images.append(i)\n",
    "dic = {}\n",
    "for i in tmp:\n",
    "    if i in dic:\n",
    "        continue\n",
    "    else:\n",
    "        dic[i] = None\n",
    "file_names = list(dic.keys())"
   ]
  },
  {
   "cell_type": "code",
   "execution_count": 16,
   "id": "6bb5eed1",
   "metadata": {},
   "outputs": [
    {
     "name": "stderr",
     "output_type": "stream",
     "text": [
      "100%|███████████████████████████████████████████████████████████████████████████| 6481/6481 [05:19<00:00, 20.28it/s]"
     ]
    },
    {
     "name": "stdout",
     "output_type": "stream",
     "text": [
      "same\n"
     ]
    },
    {
     "name": "stderr",
     "output_type": "stream",
     "text": [
      "\n"
     ]
    }
   ],
   "source": [
    "import cv2\n",
    "from tqdm import tqdm\n",
    "\n",
    "for i in tqdm(range(len(images))):\n",
    "    if cv2.imread(images[i]).shape != (1040, 1920, 3):\n",
    "        print(\"diff\")\n",
    "        break\n",
    "else:\n",
    "    print(\"same\")\n"
   ]
  },
  {
   "cell_type": "code",
   "execution_count": 16,
   "id": "71d5e589",
   "metadata": {},
   "outputs": [
    {
     "name": "stderr",
     "output_type": "stream",
     "text": [
      "100%|████████████████████████████████████████████████████████████████████████| 6481/6481 [00:00<00:00, 14731.52it/s]\n"
     ]
    }
   ],
   "source": [
    "w, h = 1920, 1040\n",
    "\n",
    "def changed_line(line):\n",
    "    line = line.split()\n",
    "    xmax, ymax, xmin, ymin = -1,-1,sys.maxsize,sys.maxsize\n",
    "    for i in range(1,len(line),2):\n",
    "        xmax = max(xmax,int(line[i]))\n",
    "        xmin = min(xmin,int(line[i]))\n",
    "    for i in range(2,len(line),2):\n",
    "        ymax = max(ymax,int(line[i]))\n",
    "        ymin = min(ymin,int(line[i]))\n",
    "    cx = str(((xmin + xmax) / 2) * (1 / w))\n",
    "    cy = str(((ymin + ymax) / 2) * (1 / h))\n",
    "    w_ = str((xmax - xmin) * (1 / w))\n",
    "    h_ = str((ymax - ymin) * (1 / h))\n",
    "    #line[0] = str(int(line[0]))\n",
    "    line[0] = line[0].split('.')[0]\n",
    "    while len(line[0])<3:\n",
    "        line[0] = '0' + line[0]\n",
    "    return line[0] + \" \" + cx + \" \" + cy + \" \" + w_ + \" \" + h_ + '\\n'\n",
    "\n",
    "for file_ in tqdm(labels):\n",
    "    f = open(file_,\"r\")\n",
    "    lines = f.readlines()\n",
    "    f.close()\n",
    "    f = open(file_,\"w\")\n",
    "    for line in lines:\n",
    "        f.write(changed_line(line))\n",
    "    f.close()\n",
    "    \n",
    "    "
   ]
  }
 ],
 "metadata": {
  "kernelspec": {
   "display_name": "Python 3 (ipykernel)",
   "language": "python",
   "name": "python3"
  },
  "language_info": {
   "codemirror_mode": {
    "name": "ipython",
    "version": 3
   },
   "file_extension": ".py",
   "mimetype": "text/x-python",
   "name": "python",
   "nbconvert_exporter": "python",
   "pygments_lexer": "ipython3",
   "version": "3.9.12"
  }
 },
 "nbformat": 4,
 "nbformat_minor": 5
}
