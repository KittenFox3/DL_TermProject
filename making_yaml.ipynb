{
 "cells": [
  {
   "cell_type": "markdown",
   "id": "cfac250d",
   "metadata": {},
   "source": [
    "# yaml만드는 코드"
   ]
  },
  {
   "cell_type": "code",
   "execution_count": 3,
   "id": "bc863c26",
   "metadata": {},
   "outputs": [
    {
     "data": {
      "text/plain": [
       "['chevrolet_malibu_sedan_2012_2016',\n",
       " 'chevrolet_malibu_sedan_2017_2019',\n",
       " 'chevrolet_spark_hatchback_2016_2021',\n",
       " 'chevrolet_trailblazer_suv_2021_',\n",
       " 'chevrolet_trax_suv_2017_2019',\n",
       " 'genesis_g80_sedan_2016_2020',\n",
       " 'genesis_g80_sedan_2021_',\n",
       " 'genesis_gv80_suv_2020_',\n",
       " 'hyundai_avante_sedan_2011_2015',\n",
       " 'hyundai_avante_sedan_2020_',\n",
       " 'hyundai_grandeur_sedan_2011_2016',\n",
       " 'hyundai_grandstarex_van_2018_2020',\n",
       " 'hyundai_ioniq_hatchback_2016_2019',\n",
       " 'hyundai_sonata_sedan_2004_2009',\n",
       " 'hyundai_sonata_sedan_2010_2014',\n",
       " 'hyundai_sonata_sedan_2019_2020',\n",
       " 'kia_carnival_van_2015_2020',\n",
       " 'kia_carnival_van_2021_',\n",
       " 'kia_k5_sedan_2010_2015',\n",
       " 'kia_k5_sedan_2020_',\n",
       " 'kia_k7_sedan_2016_2020',\n",
       " 'kia_mohave_suv_2020_',\n",
       " 'kia_morning_hatchback_2004_2010',\n",
       " 'kia_morning_hatchback_2011_2016',\n",
       " 'kia_ray_hatchback_2012_2017',\n",
       " 'kia_sorrento_suv_2015_2019',\n",
       " 'kia_sorrento_suv_2020_',\n",
       " 'kia_soul_suv_2014_2018',\n",
       " 'kia_sportage_suv_2016_2020',\n",
       " 'kia_stonic_suv_2017_2019',\n",
       " 'renault_sm3_sedan_2015_2018',\n",
       " 'renault_xm3_suv_2020_',\n",
       " 'ssangyong_korando_suv_2019_2020',\n",
       " 'ssangyong_tivoli_suv_2016_2020']"
      ]
     },
     "execution_count": 3,
     "metadata": {},
     "output_type": "execute_result"
    }
   ],
   "source": [
    "f = open(\"./classes.txt\",\"r\")\n",
    "arr = f.readlines()\n",
    "name = []\n",
    "for i in range(len(arr)):\n",
    "    name.append(arr[i].split(\",\")[1][:-1])\n",
    "name"
   ]
  },
  {
   "cell_type": "code",
   "execution_count": 4,
   "id": "3d3731a4",
   "metadata": {},
   "outputs": [
    {
     "data": {
      "text/plain": [
       "{'names': ['chevrolet_malibu_sedan_2012_2016',\n",
       "  'chevrolet_malibu_sedan_2017_2019',\n",
       "  'chevrolet_spark_hatchback_2016_2021',\n",
       "  'chevrolet_trailblazer_suv_2021_',\n",
       "  'chevrolet_trax_suv_2017_2019',\n",
       "  'genesis_g80_sedan_2016_2020',\n",
       "  'genesis_g80_sedan_2021_',\n",
       "  'genesis_gv80_suv_2020_',\n",
       "  'hyundai_avante_sedan_2011_2015',\n",
       "  'hyundai_avante_sedan_2020_',\n",
       "  'hyundai_grandeur_sedan_2011_2016',\n",
       "  'hyundai_grandstarex_van_2018_2020',\n",
       "  'hyundai_ioniq_hatchback_2016_2019',\n",
       "  'hyundai_sonata_sedan_2004_2009',\n",
       "  'hyundai_sonata_sedan_2010_2014',\n",
       "  'hyundai_sonata_sedan_2019_2020',\n",
       "  'kia_carnival_van_2015_2020',\n",
       "  'kia_carnival_van_2021_',\n",
       "  'kia_k5_sedan_2010_2015',\n",
       "  'kia_k5_sedan_2020_',\n",
       "  'kia_k7_sedan_2016_2020',\n",
       "  'kia_mohave_suv_2020_',\n",
       "  'kia_morning_hatchback_2004_2010',\n",
       "  'kia_morning_hatchback_2011_2016',\n",
       "  'kia_ray_hatchback_2012_2017',\n",
       "  'kia_sorrento_suv_2015_2019',\n",
       "  'kia_sorrento_suv_2020_',\n",
       "  'kia_soul_suv_2014_2018',\n",
       "  'kia_sportage_suv_2016_2020',\n",
       "  'kia_stonic_suv_2017_2019',\n",
       "  'renault_sm3_sedan_2015_2018',\n",
       "  'renault_xm3_suv_2020_',\n",
       "  'ssangyong_korando_suv_2019_2020',\n",
       "  'ssangyong_tivoli_suv_2016_2020'],\n",
       " 'nc': 34,\n",
       " 'train': './train/images/',\n",
       " 'val': './valid/images/'}"
      ]
     },
     "metadata": {},
     "output_type": "display_data"
    }
   ],
   "source": [
    "import yaml\n",
    "data = {\n",
    "    \"train\" : \"./train/images/\",\n",
    "    \"val\" : \"./valid/images/\",\n",
    "    \"names\" : name,\n",
    "    \"nc\" : len(name)\n",
    "}\n",
    "\n",
    "with open(\"./dacon_data.yaml\",\"w\") as file:\n",
    "    yaml.dump(data,file)\n",
    "\n",
    "with open(\"./dacon_data.yaml\",\"r\") as file:\n",
    "    dacon_yaml = yaml.safe_load(file)\n",
    "    display(dacon_yaml)\n",
    "    "
   ]
  }
 ],
 "metadata": {
  "kernelspec": {
   "display_name": "Python 3 (ipykernel)",
   "language": "python",
   "name": "python3"
  },
  "language_info": {
   "codemirror_mode": {
    "name": "ipython",
    "version": 3
   },
   "file_extension": ".py",
   "mimetype": "text/x-python",
   "name": "python",
   "nbconvert_exporter": "python",
   "pygments_lexer": "ipython3",
   "version": "3.9.12"
  }
 },
 "nbformat": 4,
 "nbformat_minor": 5
}
